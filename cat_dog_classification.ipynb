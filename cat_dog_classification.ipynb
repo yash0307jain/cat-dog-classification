{
 "cells": [
  {
   "cell_type": "code",
   "execution_count": 1,
   "id": "b4a62970",
   "metadata": {},
   "outputs": [],
   "source": [
    "import os\n",
    "import zipfile\n",
    "import pickle\n",
    "\n",
    "import numpy as np\n",
    "import pandas as pd\n",
    "import matplotlib.pyplot as plt\n",
    "\n",
    "import cv2\n",
    "import tensorflow as tf"
   ]
  },
  {
   "cell_type": "code",
   "execution_count": 2,
   "id": "ae463218",
   "metadata": {},
   "outputs": [],
   "source": [
    "# current_dir = \"dogs_and_cats\"\n",
    "# with zipfile.ZipFile(f\"../{current_dir}/train.zip\",\"r\") as z:\n",
    "#     z.extractall(\".\")\n",
    "    \n",
    "# with zipfile.ZipFile(f\"../{current_dir}/test.zip\",\"r\") as z:\n",
    "#     z.extractall(\".\")"
   ]
  },
  {
   "cell_type": "code",
   "execution_count": 3,
   "id": "26cb178e",
   "metadata": {
    "scrolled": true
   },
   "outputs": [],
   "source": [
    "# main_dir = os.getcwd()\n",
    "# train_dir = \"train/\"\n",
    "# path = os.path.join(main_dir,train_dir)\n",
    "\n",
    "# for p in os.listdir(path):\n",
    "#     category = p.split(\".\")[0]\n",
    "#     img_array = cv2.imread(os.path.join(path,p),cv2.IMREAD_GRAYSCALE)\n",
    "#     new_img_array = cv2.resize(img_array, dsize=(80, 80))\n",
    "#     plt.imshow(new_img_array,cmap=\"gray\")\n",
    "#     break"
   ]
  },
  {
   "cell_type": "code",
   "execution_count": 4,
   "id": "d4da622d",
   "metadata": {},
   "outputs": [],
   "source": [
    "# X = []\n",
    "# y = []\n",
    "# convert = lambda category: int(category == 'dog')\n",
    "\n",
    "# def create_test_data(path):\n",
    "#     for p in os.listdir(path):\n",
    "#         category = p.split(\".\")[0]\n",
    "#         category = convert(category)\n",
    "        \n",
    "#         img_array = cv2.imread(os.path.join(path,p), cv2.IMREAD_GRAYSCALE)\n",
    "#         new_img_array = cv2.resize(img_array, dsize=(80, 80))\n",
    "        \n",
    "#         X.append(new_img_array)\n",
    "#         y.append(category)"
   ]
  },
  {
   "cell_type": "code",
   "execution_count": 5,
   "id": "e9dcde66",
   "metadata": {},
   "outputs": [],
   "source": [
    "# create_test_data(path)"
   ]
  },
  {
   "cell_type": "code",
   "execution_count": 6,
   "id": "20fbdadb",
   "metadata": {},
   "outputs": [],
   "source": [
    "# X = np.array(X).reshape(-1, 80, 80, 1)\n",
    "# y = np.array(y)"
   ]
  },
  {
   "cell_type": "code",
   "execution_count": 7,
   "id": "9253678a",
   "metadata": {},
   "outputs": [],
   "source": [
    "# X.shape, y.shape"
   ]
  },
  {
   "cell_type": "code",
   "execution_count": 8,
   "id": "8cb86613",
   "metadata": {},
   "outputs": [],
   "source": [
    "# pickle.dump(X, open('process_data/train_x.pkl', 'wb'))\n",
    "# pickle.dump(y, open('process_data/train_y.pkl', 'wb'))"
   ]
  },
  {
   "cell_type": "code",
   "execution_count": 2,
   "id": "d4330022",
   "metadata": {},
   "outputs": [],
   "source": [
    "X = pickle.load(open('process_data/train_x.pkl', 'rb'))\n",
    "y = pickle.load(open('process_data/train_y.pkl', 'rb'))"
   ]
  },
  {
   "cell_type": "code",
   "execution_count": 3,
   "id": "987638e2",
   "metadata": {},
   "outputs": [
    {
     "data": {
      "text/plain": [
       "((25000, 80, 80, 1), (25000,))"
      ]
     },
     "execution_count": 3,
     "metadata": {},
     "output_type": "execute_result"
    }
   ],
   "source": [
    "X.shape, y.shape"
   ]
  },
  {
   "cell_type": "code",
   "execution_count": 4,
   "id": "d28840eb",
   "metadata": {},
   "outputs": [],
   "source": [
    "#Normalize data\n",
    "X = X/255.0"
   ]
  },
  {
   "cell_type": "code",
   "execution_count": 5,
   "id": "050fdeb1",
   "metadata": {},
   "outputs": [],
   "source": [
    "model = tf.keras.Sequential([\n",
    "    tf.keras.layers.Conv2D(64, (3, 3), activation='relu', input_shape=X.shape[1:]),\n",
    "    tf.keras.layers.MaxPooling2D(pool_size=(2, 2)),\n",
    "    tf.keras.layers.Conv2D(64, (3, 3), activation='relu'),\n",
    "    tf.keras.layers.MaxPooling2D(pool_size=(2, 2)),\n",
    "    tf.keras.layers.Flatten(),\n",
    "    tf.keras.layers.Dense(64, activation='relu'),\n",
    "    tf.keras.layers.Dense(1, activation='sigmoid')\n",
    "])\n",
    "\n",
    "model.compile(loss=tf.keras.losses.BinaryCrossentropy(),\n",
    "              optimizer=tf.keras.optimizers.Adam(),\n",
    "              metrics=['accuracy'])"
   ]
  },
  {
   "cell_type": "code",
   "execution_count": null,
   "id": "c84c929e",
   "metadata": {},
   "outputs": [
    {
     "name": "stdout",
     "output_type": "stream",
     "text": [
      "Epoch 1/10\n"
     ]
    }
   ],
   "source": [
    "history = model.fit(X, y, epochs=10, batch_size=32, validation_split=0.2)"
   ]
  },
  {
   "cell_type": "code",
   "execution_count": null,
   "id": "eaaa3ea8",
   "metadata": {},
   "outputs": [],
   "source": []
  }
 ],
 "metadata": {
  "kernelspec": {
   "display_name": "Python 3",
   "language": "python",
   "name": "python3"
  },
  "language_info": {
   "codemirror_mode": {
    "name": "ipython",
    "version": 3
   },
   "file_extension": ".py",
   "mimetype": "text/x-python",
   "name": "python",
   "nbconvert_exporter": "python",
   "pygments_lexer": "ipython3",
   "version": "3.6.13"
  }
 },
 "nbformat": 4,
 "nbformat_minor": 5
}
